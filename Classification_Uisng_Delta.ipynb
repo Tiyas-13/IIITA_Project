{
 "cells": [
  {
   "cell_type": "code",
   "execution_count": 1,
   "metadata": {},
   "outputs": [],
   "source": [
    "import numpy as np\n",
    "import pandas as pd\n",
    "import matplotlib.pyplot as plt\n",
    "from time import sleep\n",
    "import os\n",
    "import pyeeg\n",
    "import warnings\n",
    "import pywt\n",
    "import statistics\n",
    "import scipy\n",
    "from statistics import mean\n",
    "warnings.filterwarnings(\"ignore\", category=np.VisibleDeprecationWarning) \n",
    "%matplotlib notebook"
   ]
  },
  {
   "cell_type": "code",
   "execution_count": 2,
   "metadata": {},
   "outputs": [],
   "source": [
    "dirB=\"/Users/Tiyas Dey/Downloads/EEG Epilepsy/O/\"\n",
    "tempB = []\n",
    "for file in os.listdir(dirB):\n",
    "    fl = dirB + file\n",
    "    tempB.append(fl)\n",
    "tempB = sorted(tempB)    # class: 1     val:  -1\n",
    "\n",
    "dirC=\"/Users/Tiyas Dey/Downloads/EEG Epilepsy/N/\"\n",
    "tempC = []\n",
    "for file in os.listdir(dirC):\n",
    "    fl = dirC + file\n",
    "    tempC.append(fl)\n",
    "tempC = sorted(tempC)   # class:2       val: 0\n",
    "    \n",
    "dirE=\"/Users/Tiyas Dey/Downloads/EEG Epilepsy/S/\"\n",
    "tempE = []\n",
    "for file in os.listdir(dirE):\n",
    "    fl = dirE + file\n",
    "    tempE.append(fl)\n",
    "tempE = sorted(tempE) # class: 3        val: 1"
   ]
  },
  {
   "cell_type": "code",
   "execution_count": 3,
   "metadata": {},
   "outputs": [],
   "source": [
    "tb = []\n",
    "st = 'B'\n",
    "for i in range(len(tempB)):\n",
    "    file = open(tempB[i],\"r\")\n",
    "    x = file.readlines()\n",
    "    eeg = []\n",
    "    for j in range(0,len(x)-1):\n",
    "        eeg.append(float(x[j].strip('\\n')))\n",
    "    d = pd.DataFrame(data = eeg, columns=[st+str(i)])\n",
    "    tb.append(d)\n",
    "    \n",
    "tc = []\n",
    "st = 'C'\n",
    "for i in range(len(tempC)):\n",
    "    file = open(tempC[i],\"r\")\n",
    "    x = file.readlines()\n",
    "    eeg = []\n",
    "    for j in range(0,len(x)-1):\n",
    "        eeg.append(float(x[j].strip('\\n')))\n",
    "    d = pd.DataFrame(data = eeg, columns=[st+str(i)])\n",
    "    tc.append(d)\n",
    "    \n",
    "te = []\n",
    "st = 'E'\n",
    "for i in range(len(tempE)):\n",
    "    file = open(tempE[i],\"r\")\n",
    "    x = file.readlines()\n",
    "    eeg = []\n",
    "    for j in range(0,len(x)-1):\n",
    "        eeg.append(float(x[j].strip('\\n')))\n",
    "    d = pd.DataFrame(data = eeg, columns=[st+str(i)])\n",
    "    te.append(d)"
   ]
  },
  {
   "cell_type": "code",
   "execution_count": 4,
   "metadata": {},
   "outputs": [],
   "source": [
    "def table(table):\n",
    "    big_table = None\n",
    "    for ta in table:\n",
    "        big_table = pd.concat([big_table, ta], axis = 1)\n",
    "    return big_table"
   ]
  },
  {
   "cell_type": "code",
   "execution_count": 5,
   "metadata": {},
   "outputs": [],
   "source": [
    "bigB = table(tb)\n",
    "bigC = table(tc)\n",
    "bigE = table(te)"
   ]
  },
  {
   "cell_type": "code",
   "execution_count": 6,
   "metadata": {},
   "outputs": [],
   "source": [
    "TableB = bigB.T\n",
    "TableC = bigC.T\n",
    "TableE = bigE.T"
   ]
  },
  {
   "cell_type": "code",
   "execution_count": 7,
   "metadata": {},
   "outputs": [],
   "source": [
    "NewTableB = TableB\n",
    "Mean = []\n",
    "for i in range(99):\n",
    "    arr = []\n",
    "    for j in range(4096):\n",
    "        arr.append(TableB[j][i])\n",
    "    mn = mean(arr)\n",
    "    Mean.append(mn)"
   ]
  },
  {
   "cell_type": "code",
   "execution_count": 8,
   "metadata": {},
   "outputs": [],
   "source": [
    "for i in range(99):\n",
    "    for j in range(4096):\n",
    "        NewTableB[j][i] = TableB[j][i]-Mean[i]"
   ]
  },
  {
   "cell_type": "code",
   "execution_count": 9,
   "metadata": {},
   "outputs": [],
   "source": [
    "cv = np.cov(NewTableB)\n",
    "A = pd.DataFrame(data = cv)"
   ]
  },
  {
   "cell_type": "code",
   "execution_count": 10,
   "metadata": {},
   "outputs": [],
   "source": [
    "eigen_vals, eigen_vecs = np.linalg.eig(A)"
   ]
  },
  {
   "cell_type": "code",
   "execution_count": 11,
   "metadata": {},
   "outputs": [],
   "source": [
    "sum = 0\n",
    "for i in range(100):\n",
    "    sum = sum+eigen_vals[i]\n",
    "arr = []\n",
    "for i in range(100):\n",
    "    arr.append(eigen_vals[i]/sum)"
   ]
  },
  {
   "cell_type": "code",
   "execution_count": 12,
   "metadata": {},
   "outputs": [],
   "source": [
    "tableB = table(tb).T"
   ]
  },
  {
   "cell_type": "code",
   "execution_count": 13,
   "metadata": {},
   "outputs": [],
   "source": [
    "tableB.insert(0,\"EG\",arr,True)\n",
    "tableB.sort_values('EG', inplace=True, ascending=False)\n",
    "BigB = tableB[0:65]\n",
    "BigB = BigB.drop('EG',axis = 1)\n",
    "BigBB = BigB.T"
   ]
  },
  {
   "cell_type": "code",
   "execution_count": 14,
   "metadata": {},
   "outputs": [],
   "source": [
    "NewTableC = TableC\n",
    "MeanC = []\n",
    "for i in range(99):\n",
    "    arrC = []\n",
    "    for j in range(4096):\n",
    "        arrC.append(TableC[j][i])\n",
    "    mnc = mean(arrC)\n",
    "    MeanC.append(mnc)"
   ]
  },
  {
   "cell_type": "code",
   "execution_count": 15,
   "metadata": {},
   "outputs": [],
   "source": [
    "for i in range(99):\n",
    "    for j in range(4096):\n",
    "        NewTableC[j][i] = TableC[j][i]-MeanC[i]"
   ]
  },
  {
   "cell_type": "code",
   "execution_count": 16,
   "metadata": {},
   "outputs": [],
   "source": [
    "cvc = np.cov(NewTableC)\n",
    "AC = pd.DataFrame(data = cvc)"
   ]
  },
  {
   "cell_type": "code",
   "execution_count": 17,
   "metadata": {},
   "outputs": [],
   "source": [
    "eigen_valsC, eigen_vecsC = np.linalg.eig(AC)"
   ]
  },
  {
   "cell_type": "code",
   "execution_count": 18,
   "metadata": {},
   "outputs": [],
   "source": [
    "sumC = 0\n",
    "for i in range(100):\n",
    "    sumC = sumC+eigen_valsC[i]\n",
    "arrC = []\n",
    "for i in range(100):\n",
    "    arrC.append(eigen_valsC[i]/sum)"
   ]
  },
  {
   "cell_type": "code",
   "execution_count": 19,
   "metadata": {},
   "outputs": [],
   "source": [
    "tableC = table(tc).T"
   ]
  },
  {
   "cell_type": "code",
   "execution_count": 20,
   "metadata": {},
   "outputs": [],
   "source": [
    "tableC.insert(0,\"EG\",arr,True)\n",
    "tableC.sort_values('EG', inplace=True, ascending=False)\n",
    "BigC = tableC[0:65]\n",
    "BigC = BigC.drop('EG',axis = 1)\n",
    "BigCC = BigC.T"
   ]
  },
  {
   "cell_type": "code",
   "execution_count": 21,
   "metadata": {},
   "outputs": [],
   "source": [
    "NewTableE = TableE\n",
    "MeanE = []\n",
    "for i in range(99):\n",
    "    arrE = []\n",
    "    for j in range(4096):\n",
    "        arrE.append(TableE[j][i])\n",
    "    mnE = mean(arrE)\n",
    "    MeanE.append(mnE)"
   ]
  },
  {
   "cell_type": "code",
   "execution_count": 22,
   "metadata": {},
   "outputs": [],
   "source": [
    "for i in range(99):\n",
    "    for j in range(4096):\n",
    "        NewTableE[j][i] = TableE[j][i]-MeanE[i]"
   ]
  },
  {
   "cell_type": "code",
   "execution_count": 23,
   "metadata": {},
   "outputs": [],
   "source": [
    "cve = np.cov(NewTableE)\n",
    "AE = pd.DataFrame(data = cve)"
   ]
  },
  {
   "cell_type": "code",
   "execution_count": 24,
   "metadata": {},
   "outputs": [],
   "source": [
    "eigen_valsE, eigen_vecsE = np.linalg.eig(AE)"
   ]
  },
  {
   "cell_type": "code",
   "execution_count": 25,
   "metadata": {},
   "outputs": [],
   "source": [
    "sumE = 0\n",
    "for i in range(100):\n",
    "    sumE = sumE+eigen_valsE[i]\n",
    "arrE = []\n",
    "for i in range(100):\n",
    "    arrE.append(eigen_valsE[i]/sum)"
   ]
  },
  {
   "cell_type": "code",
   "execution_count": 26,
   "metadata": {},
   "outputs": [],
   "source": [
    "tableE = table(te).T"
   ]
  },
  {
   "cell_type": "code",
   "execution_count": 27,
   "metadata": {},
   "outputs": [],
   "source": [
    "tableE.insert(0,\"EG\",arr,True)\n",
    "tableE.sort_values('EG', inplace=True, ascending=False)\n",
    "BigE = tableE[0:65]\n",
    "BigE = BigE.drop('EG',axis = 1)\n",
    "BigEE = BigE.T"
   ]
  },
  {
   "cell_type": "code",
   "execution_count": 28,
   "metadata": {},
   "outputs": [],
   "source": [
    "def features(arraya):\n",
    "    from statistics import mean\n",
    "    from scipy import stats\n",
    "    m1 = max(arraya)\n",
    "    m2 = min(arraya)\n",
    "    meaan = mean(arraya)\n",
    "    sd = statistics.stdev(arraya)\n",
    "    v = sd*sd\n",
    "    md = statistics.median(arraya)\n",
    "    s = stats.skew(arraya)\n",
    "    DFA = pyeeg.dfa(arraya)\n",
    "    SVD_Entropy = pyeeg.svd_entropy(arraya,4,10)\n",
    "    \n",
    "    return (m1,m2,meaan,sd,v,md,s,DFA,SVD_Entropy)"
   ]
  },
  {
   "cell_type": "code",
   "execution_count": 29,
   "metadata": {},
   "outputs": [],
   "source": [
    "headB = list(BigBB.columns.values)\n",
    "headC = list(BigCC.columns.values)\n",
    "headE = list(BigEE.columns.values)"
   ]
  },
  {
   "cell_type": "code",
   "execution_count": 32,
   "metadata": {},
   "outputs": [],
   "source": [
    "from pywt import wavedec\n",
    "maximum = []\n",
    "minimum = []\n",
    "mean = []\n",
    "deviation = []\n",
    "variance = []\n",
    "median = []\n",
    "skew = []\n",
    "dfa = []\n",
    "entropy =[]\n",
    "Class = []\n",
    "taa = None\n",
    "for i in range(len(headB)):\n",
    "    arr = []  \n",
    "    for j in range(4096):\n",
    "        arr.append(BigBB[headB[i]].loc[j])\n",
    "    coeffs = wavedec(arr, 'db4', level=4)\n",
    "    delta, theta, alpha, beta, gamma = coeffs\n",
    "    ga = features(delta)\n",
    "    maximum.append(ga[0])\n",
    "    minimum.append(ga[1])\n",
    "    mean.append(ga[2])\n",
    "    deviation.append(ga[3])\n",
    "    variance.append(ga[4])\n",
    "    median.append(ga[5])\n",
    "    skew.append(ga[6])\n",
    "    dfa.append(ga[7])\n",
    "    entropy.append(ga[8])\n",
    "    Class.append(1)\n",
    "m = pd.DataFrame(data = maximum, columns = [\"Maximum\"])\n",
    "mm = pd.DataFrame(data = minimum, columns = [\"Minimum\"])\n",
    "mn = pd.DataFrame(data = mean, columns = [\"Mean\"])\n",
    "dd = pd.DataFrame(data = deviation, columns = [\"Std Deviation\"])\n",
    "vv = pd.DataFrame(data = variance, columns = [\"Variance\"])\n",
    "me = pd.DataFrame(data = median, columns = [\"Median\"])\n",
    "sk = pd.DataFrame(data = skew, columns = [\"Skew\"])\n",
    "df = pd.DataFrame(data = dfa, columns = [\"DFA\"])\n",
    "en = pd.DataFrame(data = entropy, columns = [\"Entropy\"])\n",
    "cl = pd.DataFrame(data = Class, columns = [\"Class\"])\n",
    "d = pd.concat([m,mm,mn,dd,vv,me,sk,df,en,cl],axis = 1)"
   ]
  },
  {
   "cell_type": "code",
   "execution_count": 33,
   "metadata": {},
   "outputs": [],
   "source": [
    "from pywt import wavedec\n",
    "maximum = []\n",
    "minimum = []\n",
    "mean = []\n",
    "deviation = []\n",
    "variance = []\n",
    "median = []\n",
    "skew = []\n",
    "dfa = []\n",
    "entropy =[]\n",
    "Class = []\n",
    "taa = None\n",
    "for i in range(len(headC)):\n",
    "    arr = []  \n",
    "    for j in range(4096):\n",
    "        arr.append(BigCC[headC[i]].loc[j])\n",
    "    coeffs = wavedec(arr, 'db4', level=4)\n",
    "    delta, theta, alpha, beta, gamma = coeffs\n",
    "    ga = features(delta)\n",
    "    maximum.append(ga[0])\n",
    "    minimum.append(ga[1])\n",
    "    mean.append(ga[2])\n",
    "    deviation.append(ga[3])\n",
    "    variance.append(ga[4])\n",
    "    median.append(ga[5])\n",
    "    skew.append(ga[6])\n",
    "    dfa.append(ga[7])\n",
    "    entropy.append(ga[8])\n",
    "    Class.append(0)\n",
    "m = pd.DataFrame(data = maximum, columns = [\"Maximum\"])\n",
    "mm = pd.DataFrame(data = minimum, columns = [\"Minimum\"])\n",
    "mn = pd.DataFrame(data = mean, columns = [\"Mean\"])\n",
    "dd = pd.DataFrame(data = deviation, columns = [\"Std Deviation\"])\n",
    "vv = pd.DataFrame(data = variance, columns = [\"Variance\"])\n",
    "me = pd.DataFrame(data = median, columns = [\"Median\"])\n",
    "sk = pd.DataFrame(data = skew, columns = [\"Skew\"])\n",
    "df = pd.DataFrame(data = dfa, columns = [\"DFA\"])\n",
    "en = pd.DataFrame(data = entropy, columns = [\"Entropy\"])\n",
    "cl = pd.DataFrame(data = Class, columns = [\"Class\"])\n",
    "d2 = pd.concat([m,mm,mn,dd,vv,me,sk,df,en,cl],axis = 1)"
   ]
  },
  {
   "cell_type": "code",
   "execution_count": 34,
   "metadata": {},
   "outputs": [],
   "source": [
    "from pywt import wavedec\n",
    "maximum = []\n",
    "minimum = []\n",
    "mean = []\n",
    "deviation = []\n",
    "variance = []\n",
    "median = []\n",
    "skew = []\n",
    "dfa = []\n",
    "entropy =[]\n",
    "Class = []\n",
    "taa = None\n",
    "for i in range(len(headE)):\n",
    "    arr = []  \n",
    "    for j in range(4096):\n",
    "        arr.append(BigEE[headE[i]].loc[j])\n",
    "    coeffs = wavedec(arr, 'db4', level=4)\n",
    "    delta, theta, alpha, beta, gamma = coeffs\n",
    "    ga = features(delta)\n",
    "    maximum.append(ga[0])\n",
    "    minimum.append(ga[1])\n",
    "    mean.append(ga[2])\n",
    "    deviation.append(ga[3])\n",
    "    variance.append(ga[4])\n",
    "    median.append(ga[5])\n",
    "    skew.append(ga[6])\n",
    "    dfa.append(ga[7])\n",
    "    entropy.append(ga[8])\n",
    "    Class.append(-1)\n",
    "m = pd.DataFrame(data = maximum, columns = [\"Maximum\"])\n",
    "mm = pd.DataFrame(data = minimum, columns = [\"Minimum\"])\n",
    "mn = pd.DataFrame(data = mean, columns = [\"Mean\"])\n",
    "dd = pd.DataFrame(data = deviation, columns = [\"Std Deviation\"])\n",
    "vv = pd.DataFrame(data = variance, columns = [\"Variance\"])\n",
    "me = pd.DataFrame(data = median, columns = [\"Median\"])\n",
    "sk = pd.DataFrame(data = skew, columns = [\"Skew\"])\n",
    "df = pd.DataFrame(data = dfa, columns = [\"DFA\"])\n",
    "en = pd.DataFrame(data = entropy, columns = [\"Entropy\"])\n",
    "cl = pd.DataFrame(data = Class, columns = [\"Class\"])\n",
    "d3 = pd.concat([m,mm,mn,dd,vv,me,sk,df,en,cl],axis = 1)"
   ]
  },
  {
   "cell_type": "code",
   "execution_count": 35,
   "metadata": {},
   "outputs": [],
   "source": [
    "TotalDataset2 = pd.concat([d,d2,d3],ignore_index = True)"
   ]
  },
  {
   "cell_type": "code",
   "execution_count": 36,
   "metadata": {},
   "outputs": [],
   "source": [
    "from sklearn.model_selection import train_test_split\n",
    "X = TotalDataset2[[\"Maximum\",\"Minimum\",\"Mean\",\"Std Deviation\",\"Variance\",\"Median\",\"Skew\",\"DFA\",\"Entropy\"]]\n",
    "y = TotalDataset2[['Class']]\n",
    "X = np.asarray(X)\n",
    "y = np.asarray(y)\n",
    "X_train, X_test, y_train, y_test = train_test_split(X, y, test_size=0.33, random_state=42)"
   ]
  },
  {
   "cell_type": "code",
   "execution_count": 37,
   "metadata": {},
   "outputs": [],
   "source": [
    "from sklearn.model_selection import train_test_split\n",
    "from sklearn.preprocessing import StandardScaler\n",
    "from sklearn.datasets import make_moons, make_circles, make_classification\n",
    "from sklearn.neural_network import MLPClassifier\n",
    "from sklearn.neighbors import KNeighborsClassifier\n",
    "from sklearn.svm import SVC\n",
    "from sklearn.gaussian_process import GaussianProcessClassifier\n",
    "from sklearn.gaussian_process.kernels import RBF\n",
    "from sklearn.tree import DecisionTreeClassifier\n",
    "from sklearn.ensemble import RandomForestClassifier, AdaBoostClassifier\n",
    "from sklearn.naive_bayes import GaussianNB\n",
    "from sklearn.discriminant_analysis import QuadraticDiscriminantAnalysis"
   ]
  },
  {
   "cell_type": "code",
   "execution_count": 38,
   "metadata": {},
   "outputs": [],
   "source": [
    "names = [\"Nearest Neighbors\", \"Linear SVM\", \"RBF SVM\", \"Gaussian Process\",\n",
    "         \"Decision Tree\", \"Random Forest\", \"Neural Net\", \"AdaBoost\",\n",
    "         \"Naive Bayes\", \"QDA\"]"
   ]
  },
  {
   "cell_type": "code",
   "execution_count": 39,
   "metadata": {},
   "outputs": [],
   "source": [
    "classifiers = [\n",
    "    KNeighborsClassifier(3),\n",
    "    SVC(kernel=\"linear\", C=0.025),\n",
    "    SVC(gamma=2, C=1),\n",
    "    GaussianProcessClassifier(1.0 * RBF(1.0), warm_start=True),\n",
    "    DecisionTreeClassifier(max_depth=5),\n",
    "    RandomForestClassifier(max_depth=5, n_estimators=10, max_features=1),\n",
    "    MLPClassifier(alpha=1),\n",
    "    AdaBoostClassifier(),\n",
    "    GaussianNB(),\n",
    "    QuadraticDiscriminantAnalysis()]"
   ]
  },
  {
   "cell_type": "code",
   "execution_count": 40,
   "metadata": {},
   "outputs": [],
   "source": [
    "clf_score=[]\n",
    "with warnings.catch_warnings():\n",
    "    warnings.simplefilter(\"ignore\")\n",
    "    for name, clf in zip(names, classifiers):\n",
    "        clf.fit(X_train, y_train)\n",
    "        score = clf.score(X_test, y_test)\n",
    "        clf_score.append([score,name])"
   ]
  },
  {
   "cell_type": "code",
   "execution_count": 41,
   "metadata": {},
   "outputs": [
    {
     "data": {
      "text/plain": [
       "[[0.676923076923077, 'Nearest Neighbors'],\n",
       " [0.7538461538461538, 'Linear SVM'],\n",
       " [0.27692307692307694, 'RBF SVM'],\n",
       " [0.3076923076923077, 'Gaussian Process'],\n",
       " [0.7846153846153846, 'Decision Tree'],\n",
       " [0.8, 'Random Forest'],\n",
       " [0.27692307692307694, 'Neural Net'],\n",
       " [0.7384615384615385, 'AdaBoost'],\n",
       " [0.7076923076923077, 'Naive Bayes'],\n",
       " [0.27692307692307694, 'QDA']]"
      ]
     },
     "execution_count": 41,
     "metadata": {},
     "output_type": "execute_result"
    }
   ],
   "source": [
    "clf_score"
   ]
  },
  {
   "cell_type": "code",
   "execution_count": null,
   "metadata": {},
   "outputs": [],
   "source": []
  }
 ],
 "metadata": {
  "kernelspec": {
   "display_name": "Python 3",
   "language": "python",
   "name": "python3"
  },
  "language_info": {
   "codemirror_mode": {
    "name": "ipython",
    "version": 3
   },
   "file_extension": ".py",
   "mimetype": "text/x-python",
   "name": "python",
   "nbconvert_exporter": "python",
   "pygments_lexer": "ipython3",
   "version": "3.7.3"
  }
 },
 "nbformat": 4,
 "nbformat_minor": 2
}
