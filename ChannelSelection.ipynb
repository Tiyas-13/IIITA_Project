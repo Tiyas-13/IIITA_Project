{
 "cells": [
  {
   "cell_type": "code",
   "execution_count": 287,
   "metadata": {},
   "outputs": [],
   "source": [
    "import pandas as pd\n",
    "import numpy as np\n",
    "import os\n",
    "import warnings\n",
    "import statistics\n",
    "import scipy\n",
    "warnings.filterwarnings(\"ignore\", category=np.VisibleDeprecationWarning) \n",
    "%matplotlib notebook"
   ]
  },
  {
   "cell_type": "code",
   "execution_count": 288,
   "metadata": {},
   "outputs": [],
   "source": [
    "dirB=\"/Users/Tiyas Dey/Downloads/EEG Epilepsy/O/\"\n",
    "tempB = []\n",
    "for file in os.listdir(dirB):\n",
    "    fl = dirB + file\n",
    "    tempB.append(fl)\n",
    "tempB = sorted(tempB) "
   ]
  },
  {
   "cell_type": "code",
   "execution_count": 289,
   "metadata": {},
   "outputs": [],
   "source": [
    "tb = []\n",
    "st = 'B'\n",
    "for i in range(len(tempB)):\n",
    "    file = open(tempB[i],\"r\")\n",
    "    x = file.readlines()\n",
    "    eeg = []\n",
    "    for j in range(0,len(x)-1):\n",
    "        eeg.append(float(x[j].strip('\\n')))\n",
    "    d = pd.DataFrame(data = eeg, columns=[st+str(i)])\n",
    "    tb.append(d)"
   ]
  },
  {
   "cell_type": "code",
   "execution_count": 290,
   "metadata": {},
   "outputs": [],
   "source": [
    "def table(table):\n",
    "    big_table = None\n",
    "    for ta in table:\n",
    "        big_table = pd.concat([big_table, ta], axis = 1)\n",
    "    return big_table"
   ]
  },
  {
   "cell_type": "code",
   "execution_count": 291,
   "metadata": {},
   "outputs": [],
   "source": [
    "TableB = table(tb).T\n",
    "NewTable = TableB"
   ]
  },
  {
   "cell_type": "code",
   "execution_count": 292,
   "metadata": {},
   "outputs": [],
   "source": [
    "from statistics import mean\n",
    "Mean = []\n",
    "for i in range(99):\n",
    "    arr = []\n",
    "    for j in range(4096):\n",
    "        arr.append(TableB[j][i])\n",
    "    mn = mean(arr)\n",
    "    Mean.append(mn)"
   ]
  },
  {
   "cell_type": "code",
   "execution_count": 293,
   "metadata": {},
   "outputs": [],
   "source": [
    "for i in range(99):\n",
    "    for j in range(4096):\n",
    "        NewTable[j][i] = TableB[j][i]-Mean[i]"
   ]
  },
  {
   "cell_type": "code",
   "execution_count": 294,
   "metadata": {},
   "outputs": [],
   "source": [
    "cv = np.cov(NewTable)\n",
    "A = pd.DataFrame(data = cv)"
   ]
  },
  {
   "cell_type": "code",
   "execution_count": 295,
   "metadata": {},
   "outputs": [],
   "source": [
    "eigen_vals, eigen_vecs = np.linalg.eig(A)\n",
    "P = pd.DataFrame(data = eigen_vecs)\n",
    "E = P.T"
   ]
  },
  {
   "cell_type": "code",
   "execution_count": 296,
   "metadata": {},
   "outputs": [],
   "source": [
    "X = np.dot(A,E)\n",
    "Y = np.linalg.inv(E)\n",
    "D = np.dot(Y,X)\n",
    "D = pd.DataFrame(data = D)"
   ]
  },
  {
   "cell_type": "code",
   "execution_count": 297,
   "metadata": {},
   "outputs": [],
   "source": [
    "sum = 0\n",
    "for i in range(100):\n",
    "    sum = sum+eigen_vals[i]\n",
    "arr = []\n",
    "for i in range(100):\n",
    "    arr.append(eigen_vals[i]/sum)"
   ]
  },
  {
   "cell_type": "code",
   "execution_count": 298,
   "metadata": {},
   "outputs": [],
   "source": [
    "TableB.insert(0,\"EG\",arr,True)\n",
    "TableB.sort_values('EG', inplace=True, ascending=False)\n",
    "BigB = TableB[0:65]\n",
    "BigB = BigB.drop('EG',axis = 1)\n",
    "BigBB = BigB.T"
   ]
  },
  {
   "cell_type": "code",
   "execution_count": null,
   "metadata": {},
   "outputs": [],
   "source": []
  }
 ],
 "metadata": {
  "kernelspec": {
   "display_name": "Python 3",
   "language": "python",
   "name": "python3"
  },
  "language_info": {
   "codemirror_mode": {
    "name": "ipython",
    "version": 3
   },
   "file_extension": ".py",
   "mimetype": "text/x-python",
   "name": "python",
   "nbconvert_exporter": "python",
   "pygments_lexer": "ipython3",
   "version": "3.7.3"
  }
 },
 "nbformat": 4,
 "nbformat_minor": 2
}
